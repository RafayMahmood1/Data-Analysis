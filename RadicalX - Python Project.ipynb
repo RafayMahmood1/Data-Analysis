{
 "cells": [
  {
   "cell_type": "markdown",
   "id": "26e31040",
   "metadata": {},
   "source": [
    "<center><h1>Squad Matching Algorithm</h1></center>"
   ]
  },
  {
   "cell_type": "markdown",
   "id": "b8dbe32e",
   "metadata": {},
   "source": [
    "A key aspect of the RadicalX group internships is matching interns to a squad that matches their preferences. The onboarding process for all interns includes a detailed form where they enter the internships they are interested in, their preferences for their squad, their preferred start date, their educational and work background, and self-rating of skills that are relevant to the internship."
   ]
  },
  {
   "cell_type": "markdown",
   "id": "4940fa51",
   "metadata": {},
   "source": [
    "This file contains 4 parts.\n",
    "- Intially we are Cleaning the data\n",
    "- Then we Encode the clean dataset to input in algorithm\n",
    "- Followed by using K-Means Algorithm to make squads\n",
    "- Lastly, we are displaying the Insights/Analytics of our data"
   ]
  },
  {
   "cell_type": "markdown",
   "id": "e995b7dd",
   "metadata": {},
   "source": [
    "<center><h3>Cleaning the dataset</h3></center>"
   ]
  },
  {
   "cell_type": "markdown",
   "id": "71c9900e",
   "metadata": {},
   "source": [
    "#### Import all required libraries"
   ]
  },
  {
   "cell_type": "code",
   "execution_count": 1,
   "id": "fbc4370b",
   "metadata": {},
   "outputs": [],
   "source": [
    "import pandas as pd\n",
    "import numpy as np\n",
    "from sklearn.preprocessing import LabelEncoder\n",
    "import matplotlib.pyplot as plt \n",
    "import seaborn as sns\n",
    "\n",
    "import plotly as py\n",
    "import plotly.graph_objs as go\n",
    "\n",
    "from sklearn.cluster import KMeans\n",
    "\n",
    "import warnings\n",
    "warnings.filterwarnings('ignore')"
   ]
  },
  {
   "cell_type": "markdown",
   "id": "5dd0d1c5",
   "metadata": {},
   "source": [
    "#### Load Dataset"
   ]
  },
  {
   "cell_type": "code",
   "execution_count": 2,
   "id": "80001a15",
   "metadata": {},
   "outputs": [],
   "source": [
    "# Dataset is being read in df\n",
    "df = pd.read_csv(\"SquadData.csv\",header=None)"
   ]
  },
  {
   "cell_type": "code",
   "execution_count": 3,
   "id": "3a9b7889",
   "metadata": {},
   "outputs": [
    {
     "data": {
      "text/html": [
       "<div>\n",
       "<style scoped>\n",
       "    .dataframe tbody tr th:only-of-type {\n",
       "        vertical-align: middle;\n",
       "    }\n",
       "\n",
       "    .dataframe tbody tr th {\n",
       "        vertical-align: top;\n",
       "    }\n",
       "\n",
       "    .dataframe thead th {\n",
       "        text-align: right;\n",
       "    }\n",
       "</style>\n",
       "<table border=\"1\" class=\"dataframe\">\n",
       "  <thead>\n",
       "    <tr style=\"text-align: right;\">\n",
       "      <th></th>\n",
       "      <th>0</th>\n",
       "      <th>1</th>\n",
       "      <th>2</th>\n",
       "      <th>3</th>\n",
       "      <th>4</th>\n",
       "      <th>5</th>\n",
       "      <th>6</th>\n",
       "      <th>7</th>\n",
       "      <th>8</th>\n",
       "      <th>9</th>\n",
       "      <th>...</th>\n",
       "      <th>17</th>\n",
       "      <th>18</th>\n",
       "      <th>19</th>\n",
       "      <th>20</th>\n",
       "      <th>21</th>\n",
       "      <th>22</th>\n",
       "      <th>23</th>\n",
       "      <th>24</th>\n",
       "      <th>25</th>\n",
       "      <th>26</th>\n",
       "    </tr>\n",
       "  </thead>\n",
       "  <tbody>\n",
       "    <tr>\n",
       "      <th>0</th>\n",
       "      <td>Name</td>\n",
       "      <td>Squad Number</td>\n",
       "      <td>Do you have any preferred language of communic...</td>\n",
       "      <td>What Group Virtual Internship Program are you ...</td>\n",
       "      <td>Age</td>\n",
       "      <td>City</td>\n",
       "      <td>Country</td>\n",
       "      <td>Region</td>\n",
       "      <td>Time Zone</td>\n",
       "      <td>current occupation?</td>\n",
       "      <td>...</td>\n",
       "      <td>Product Design</td>\n",
       "      <td>Product Development</td>\n",
       "      <td>Growth Marketing</td>\n",
       "      <td>Leading groups</td>\n",
       "      <td>Where did you hear about this internship?</td>\n",
       "      <td>Which cohorts are you available to start the P...</td>\n",
       "      <td>Which cohorts are you available to start the P...</td>\n",
       "      <td>Which cohorts are you available to start the P...</td>\n",
       "      <td>Which cohorts are you available to start the P...</td>\n",
       "      <td>How many hours per week are you able to give t...</td>\n",
       "    </tr>\n",
       "    <tr>\n",
       "      <th>1</th>\n",
       "      <td>Grayson</td>\n",
       "      <td>NaN</td>\n",
       "      <td>i prefer english but i am also able to communi...</td>\n",
       "      <td>Product Marketing,Product Growth</td>\n",
       "      <td>23</td>\n",
       "      <td>bordj bou arreridj</td>\n",
       "      <td>Algeria</td>\n",
       "      <td>MENA</td>\n",
       "      <td>Europe,Africa</td>\n",
       "      <td>Recently Graduated and Unemployed</td>\n",
       "      <td>...</td>\n",
       "      <td>NaN</td>\n",
       "      <td>NaN</td>\n",
       "      <td>4</td>\n",
       "      <td>NaN</td>\n",
       "      <td>linkedin</td>\n",
       "      <td>Starting on 15th August,Starting on 22nd August</td>\n",
       "      <td>NaN</td>\n",
       "      <td>NaN</td>\n",
       "      <td>Starting on 5th September</td>\n",
       "      <td>20-25 hours</td>\n",
       "    </tr>\n",
       "    <tr>\n",
       "      <th>2</th>\n",
       "      <td>Jonas</td>\n",
       "      <td>NaN</td>\n",
       "      <td>English</td>\n",
       "      <td>Product Marketing,Product Growth ,Product Design</td>\n",
       "      <td>23</td>\n",
       "      <td>Algiers</td>\n",
       "      <td>Algeria</td>\n",
       "      <td>MENA</td>\n",
       "      <td>Africa,Europe</td>\n",
       "      <td>Recently Graduated and Unemployed</td>\n",
       "      <td>...</td>\n",
       "      <td>3</td>\n",
       "      <td>NaN</td>\n",
       "      <td>4</td>\n",
       "      <td>4</td>\n",
       "      <td>Linkedin</td>\n",
       "      <td>Starting on 12th September,Starting on 15th Au...</td>\n",
       "      <td>Starting on 3rd October,Starting on 22nd August</td>\n",
       "      <td>NaN</td>\n",
       "      <td>Starting on 3rd October</td>\n",
       "      <td>10-15 hours</td>\n",
       "    </tr>\n",
       "    <tr>\n",
       "      <th>3</th>\n",
       "      <td>Ronan</td>\n",
       "      <td>NaN</td>\n",
       "      <td>English and Spanish are good for me.</td>\n",
       "      <td>Product Design</td>\n",
       "      <td>34</td>\n",
       "      <td>Buenos Aires, Argentina</td>\n",
       "      <td>Argentina</td>\n",
       "      <td>Americas</td>\n",
       "      <td>Americas</td>\n",
       "      <td>Employed</td>\n",
       "      <td>...</td>\n",
       "      <td>4</td>\n",
       "      <td>NaN</td>\n",
       "      <td>NaN</td>\n",
       "      <td>5</td>\n",
       "      <td>A friend told me about it.</td>\n",
       "      <td>NaN</td>\n",
       "      <td>Starting on 22nd August</td>\n",
       "      <td>NaN</td>\n",
       "      <td>NaN</td>\n",
       "      <td>15-20 hours</td>\n",
       "    </tr>\n",
       "    <tr>\n",
       "      <th>4</th>\n",
       "      <td>Dulce</td>\n",
       "      <td>NaN</td>\n",
       "      <td>spanish</td>\n",
       "      <td>Product Design</td>\n",
       "      <td>38</td>\n",
       "      <td>Mendoza</td>\n",
       "      <td>Argentina</td>\n",
       "      <td>Americas</td>\n",
       "      <td>Americas</td>\n",
       "      <td>Employed</td>\n",
       "      <td>...</td>\n",
       "      <td>3</td>\n",
       "      <td>NaN</td>\n",
       "      <td>NaN</td>\n",
       "      <td>4</td>\n",
       "      <td>Linkedin</td>\n",
       "      <td>NaN</td>\n",
       "      <td>Starting on 22nd August</td>\n",
       "      <td>NaN</td>\n",
       "      <td>NaN</td>\n",
       "      <td>20-25 hours</td>\n",
       "    </tr>\n",
       "  </tbody>\n",
       "</table>\n",
       "<p>5 rows × 27 columns</p>\n",
       "</div>"
      ],
      "text/plain": [
       "        0             1                                                  2   \\\n",
       "0     Name  Squad Number  Do you have any preferred language of communic...   \n",
       "1  Grayson           NaN  i prefer english but i am also able to communi...   \n",
       "2    Jonas           NaN                                            English   \n",
       "3    Ronan           NaN               English and Spanish are good for me.   \n",
       "4    Dulce           NaN                                            spanish   \n",
       "\n",
       "                                                  3    4   \\\n",
       "0  What Group Virtual Internship Program are you ...  Age   \n",
       "1                  Product Marketing,Product Growth    23   \n",
       "2   Product Marketing,Product Growth ,Product Design   23   \n",
       "3                                     Product Design   34   \n",
       "4                                     Product Design   38   \n",
       "\n",
       "                        5          6         7              8   \\\n",
       "0                     City    Country    Region      Time Zone   \n",
       "1       bordj bou arreridj    Algeria      MENA  Europe,Africa   \n",
       "2                  Algiers    Algeria      MENA  Africa,Europe   \n",
       "3  Buenos Aires, Argentina  Argentina  Americas       Americas   \n",
       "4                  Mendoza  Argentina  Americas       Americas   \n",
       "\n",
       "                                  9   ...              17  \\\n",
       "0                current occupation?  ...  Product Design   \n",
       "1  Recently Graduated and Unemployed  ...             NaN   \n",
       "2  Recently Graduated and Unemployed  ...               3   \n",
       "3                           Employed  ...               4   \n",
       "4                           Employed  ...               3   \n",
       "\n",
       "                    18                19              20  \\\n",
       "0  Product Development  Growth Marketing  Leading groups   \n",
       "1                  NaN                 4             NaN   \n",
       "2                  NaN                 4               4   \n",
       "3                  NaN               NaN               5   \n",
       "4                  NaN               NaN               4   \n",
       "\n",
       "                                          21  \\\n",
       "0  Where did you hear about this internship?   \n",
       "1                                   linkedin   \n",
       "2                                   Linkedin   \n",
       "3                 A friend told me about it.   \n",
       "4                                   Linkedin   \n",
       "\n",
       "                                                  22  \\\n",
       "0  Which cohorts are you available to start the P...   \n",
       "1    Starting on 15th August,Starting on 22nd August   \n",
       "2  Starting on 12th September,Starting on 15th Au...   \n",
       "3                                                NaN   \n",
       "4                                                NaN   \n",
       "\n",
       "                                                  23  \\\n",
       "0  Which cohorts are you available to start the P...   \n",
       "1                                                NaN   \n",
       "2    Starting on 3rd October,Starting on 22nd August   \n",
       "3                            Starting on 22nd August   \n",
       "4                            Starting on 22nd August   \n",
       "\n",
       "                                                  24  \\\n",
       "0  Which cohorts are you available to start the P...   \n",
       "1                                                NaN   \n",
       "2                                                NaN   \n",
       "3                                                NaN   \n",
       "4                                                NaN   \n",
       "\n",
       "                                                  25  \\\n",
       "0  Which cohorts are you available to start the P...   \n",
       "1                          Starting on 5th September   \n",
       "2                            Starting on 3rd October   \n",
       "3                                                NaN   \n",
       "4                                                NaN   \n",
       "\n",
       "                                                  26  \n",
       "0  How many hours per week are you able to give t...  \n",
       "1                                        20-25 hours  \n",
       "2                                        10-15 hours  \n",
       "3                                        15-20 hours  \n",
       "4                                        20-25 hours  \n",
       "\n",
       "[5 rows x 27 columns]"
      ]
     },
     "execution_count": 3,
     "metadata": {},
     "output_type": "execute_result"
    }
   ],
   "source": [
    "df.head(5)"
   ]
  },
  {
   "cell_type": "code",
   "execution_count": 4,
   "id": "b9f666e3",
   "metadata": {},
   "outputs": [],
   "source": [
    "# Initializing the list to update column names\n",
    "headers = [\"Name\",\"Squad_Num\",\"Prefered_Lang\",\"Interested_Grp\",\"Age\",\"City\",\"Country\",\"Region\",\"Timezone\",\n",
    "          \"Occupation\",\"Degree\",\"Prev_Took_Courses\",\"Intern_Experience\",\"Product_Management\",\"Digital_Marketing\",\n",
    "          \"Market_Research\",\"Digital_Illustration\",\"Product_Design\",\"Product_Development\",\"Growth_Marketing\",\n",
    "          \"Leading_Groups\",\"Internship_News\",\"Cohort_Product_Marketing\",\"Cohort_Product_Design\",\n",
    "          \"Cohort_Product_Development\",\"Cohort_Product_Growth\",\"Hours_Per_Week\"]"
   ]
  },
  {
   "cell_type": "code",
   "execution_count": 5,
   "id": "dfc59b19",
   "metadata": {
    "scrolled": false
   },
   "outputs": [],
   "source": [
    "# Drop first row(index = 0) having old column names\n",
    "df = df.drop(index=0)"
   ]
  },
  {
   "cell_type": "code",
   "execution_count": 6,
   "id": "42d43233",
   "metadata": {},
   "outputs": [],
   "source": [
    "# Reset the index number to start from 0 again\n",
    "df.reset_index(drop=True,inplace=True)"
   ]
  },
  {
   "cell_type": "code",
   "execution_count": 7,
   "id": "6bb57746",
   "metadata": {},
   "outputs": [],
   "source": [
    "# Assign new column names to the table\n",
    "df.columns = headers"
   ]
  },
  {
   "cell_type": "code",
   "execution_count": 8,
   "id": "36609863",
   "metadata": {},
   "outputs": [
    {
     "data": {
      "text/html": [
       "<div>\n",
       "<style scoped>\n",
       "    .dataframe tbody tr th:only-of-type {\n",
       "        vertical-align: middle;\n",
       "    }\n",
       "\n",
       "    .dataframe tbody tr th {\n",
       "        vertical-align: top;\n",
       "    }\n",
       "\n",
       "    .dataframe thead th {\n",
       "        text-align: right;\n",
       "    }\n",
       "</style>\n",
       "<table border=\"1\" class=\"dataframe\">\n",
       "  <thead>\n",
       "    <tr style=\"text-align: right;\">\n",
       "      <th></th>\n",
       "      <th>Name</th>\n",
       "      <th>Squad_Num</th>\n",
       "      <th>Prefered_Lang</th>\n",
       "      <th>Interested_Grp</th>\n",
       "      <th>Age</th>\n",
       "      <th>City</th>\n",
       "      <th>Country</th>\n",
       "      <th>Region</th>\n",
       "      <th>Timezone</th>\n",
       "      <th>Occupation</th>\n",
       "      <th>...</th>\n",
       "      <th>Product_Design</th>\n",
       "      <th>Product_Development</th>\n",
       "      <th>Growth_Marketing</th>\n",
       "      <th>Leading_Groups</th>\n",
       "      <th>Internship_News</th>\n",
       "      <th>Cohort_Product_Marketing</th>\n",
       "      <th>Cohort_Product_Design</th>\n",
       "      <th>Cohort_Product_Development</th>\n",
       "      <th>Cohort_Product_Growth</th>\n",
       "      <th>Hours_Per_Week</th>\n",
       "    </tr>\n",
       "  </thead>\n",
       "  <tbody>\n",
       "    <tr>\n",
       "      <th>0</th>\n",
       "      <td>Grayson</td>\n",
       "      <td>NaN</td>\n",
       "      <td>i prefer english but i am also able to communi...</td>\n",
       "      <td>Product Marketing,Product Growth</td>\n",
       "      <td>23</td>\n",
       "      <td>bordj bou arreridj</td>\n",
       "      <td>Algeria</td>\n",
       "      <td>MENA</td>\n",
       "      <td>Europe,Africa</td>\n",
       "      <td>Recently Graduated and Unemployed</td>\n",
       "      <td>...</td>\n",
       "      <td>NaN</td>\n",
       "      <td>NaN</td>\n",
       "      <td>4</td>\n",
       "      <td>NaN</td>\n",
       "      <td>linkedin</td>\n",
       "      <td>Starting on 15th August,Starting on 22nd August</td>\n",
       "      <td>NaN</td>\n",
       "      <td>NaN</td>\n",
       "      <td>Starting on 5th September</td>\n",
       "      <td>20-25 hours</td>\n",
       "    </tr>\n",
       "    <tr>\n",
       "      <th>1</th>\n",
       "      <td>Jonas</td>\n",
       "      <td>NaN</td>\n",
       "      <td>English</td>\n",
       "      <td>Product Marketing,Product Growth ,Product Design</td>\n",
       "      <td>23</td>\n",
       "      <td>Algiers</td>\n",
       "      <td>Algeria</td>\n",
       "      <td>MENA</td>\n",
       "      <td>Africa,Europe</td>\n",
       "      <td>Recently Graduated and Unemployed</td>\n",
       "      <td>...</td>\n",
       "      <td>3</td>\n",
       "      <td>NaN</td>\n",
       "      <td>4</td>\n",
       "      <td>4</td>\n",
       "      <td>Linkedin</td>\n",
       "      <td>Starting on 12th September,Starting on 15th Au...</td>\n",
       "      <td>Starting on 3rd October,Starting on 22nd August</td>\n",
       "      <td>NaN</td>\n",
       "      <td>Starting on 3rd October</td>\n",
       "      <td>10-15 hours</td>\n",
       "    </tr>\n",
       "    <tr>\n",
       "      <th>2</th>\n",
       "      <td>Ronan</td>\n",
       "      <td>NaN</td>\n",
       "      <td>English and Spanish are good for me.</td>\n",
       "      <td>Product Design</td>\n",
       "      <td>34</td>\n",
       "      <td>Buenos Aires, Argentina</td>\n",
       "      <td>Argentina</td>\n",
       "      <td>Americas</td>\n",
       "      <td>Americas</td>\n",
       "      <td>Employed</td>\n",
       "      <td>...</td>\n",
       "      <td>4</td>\n",
       "      <td>NaN</td>\n",
       "      <td>NaN</td>\n",
       "      <td>5</td>\n",
       "      <td>A friend told me about it.</td>\n",
       "      <td>NaN</td>\n",
       "      <td>Starting on 22nd August</td>\n",
       "      <td>NaN</td>\n",
       "      <td>NaN</td>\n",
       "      <td>15-20 hours</td>\n",
       "    </tr>\n",
       "    <tr>\n",
       "      <th>3</th>\n",
       "      <td>Dulce</td>\n",
       "      <td>NaN</td>\n",
       "      <td>spanish</td>\n",
       "      <td>Product Design</td>\n",
       "      <td>38</td>\n",
       "      <td>Mendoza</td>\n",
       "      <td>Argentina</td>\n",
       "      <td>Americas</td>\n",
       "      <td>Americas</td>\n",
       "      <td>Employed</td>\n",
       "      <td>...</td>\n",
       "      <td>3</td>\n",
       "      <td>NaN</td>\n",
       "      <td>NaN</td>\n",
       "      <td>4</td>\n",
       "      <td>Linkedin</td>\n",
       "      <td>NaN</td>\n",
       "      <td>Starting on 22nd August</td>\n",
       "      <td>NaN</td>\n",
       "      <td>NaN</td>\n",
       "      <td>20-25 hours</td>\n",
       "    </tr>\n",
       "    <tr>\n",
       "      <th>4</th>\n",
       "      <td>Evelyn</td>\n",
       "      <td>NaN</td>\n",
       "      <td>Spanish</td>\n",
       "      <td>Product Marketing</td>\n",
       "      <td>22</td>\n",
       "      <td>Tigre</td>\n",
       "      <td>Argentina</td>\n",
       "      <td>Americas</td>\n",
       "      <td>Any/No preference</td>\n",
       "      <td>Recently Graduated and Unemployed</td>\n",
       "      <td>...</td>\n",
       "      <td>NaN</td>\n",
       "      <td>NaN</td>\n",
       "      <td>NaN</td>\n",
       "      <td>4</td>\n",
       "      <td>Linkedin</td>\n",
       "      <td>Starting on 22nd August,Starting on 15th August</td>\n",
       "      <td>NaN</td>\n",
       "      <td>NaN</td>\n",
       "      <td>NaN</td>\n",
       "      <td>20-25 hours</td>\n",
       "    </tr>\n",
       "  </tbody>\n",
       "</table>\n",
       "<p>5 rows × 27 columns</p>\n",
       "</div>"
      ],
      "text/plain": [
       "      Name Squad_Num                                      Prefered_Lang  \\\n",
       "0  Grayson       NaN  i prefer english but i am also able to communi...   \n",
       "1    Jonas       NaN                                            English   \n",
       "2    Ronan       NaN               English and Spanish are good for me.   \n",
       "3    Dulce       NaN                                            spanish   \n",
       "4   Evelyn       NaN                                            Spanish   \n",
       "\n",
       "                                     Interested_Grp Age  \\\n",
       "0                 Product Marketing,Product Growth   23   \n",
       "1  Product Marketing,Product Growth ,Product Design  23   \n",
       "2                                    Product Design  34   \n",
       "3                                    Product Design  38   \n",
       "4                                 Product Marketing  22   \n",
       "\n",
       "                      City    Country    Region           Timezone  \\\n",
       "0       bordj bou arreridj    Algeria      MENA      Europe,Africa   \n",
       "1                  Algiers    Algeria      MENA      Africa,Europe   \n",
       "2  Buenos Aires, Argentina  Argentina  Americas           Americas   \n",
       "3                  Mendoza  Argentina  Americas           Americas   \n",
       "4                    Tigre  Argentina  Americas  Any/No preference   \n",
       "\n",
       "                          Occupation  ... Product_Design Product_Development  \\\n",
       "0  Recently Graduated and Unemployed  ...            NaN                 NaN   \n",
       "1  Recently Graduated and Unemployed  ...              3                 NaN   \n",
       "2                           Employed  ...              4                 NaN   \n",
       "3                           Employed  ...              3                 NaN   \n",
       "4  Recently Graduated and Unemployed  ...            NaN                 NaN   \n",
       "\n",
       "  Growth_Marketing Leading_Groups             Internship_News  \\\n",
       "0                4            NaN                    linkedin   \n",
       "1                4              4                    Linkedin   \n",
       "2              NaN              5  A friend told me about it.   \n",
       "3              NaN              4                    Linkedin   \n",
       "4              NaN              4                    Linkedin   \n",
       "\n",
       "                            Cohort_Product_Marketing  \\\n",
       "0    Starting on 15th August,Starting on 22nd August   \n",
       "1  Starting on 12th September,Starting on 15th Au...   \n",
       "2                                                NaN   \n",
       "3                                                NaN   \n",
       "4    Starting on 22nd August,Starting on 15th August   \n",
       "\n",
       "                             Cohort_Product_Design Cohort_Product_Development  \\\n",
       "0                                              NaN                        NaN   \n",
       "1  Starting on 3rd October,Starting on 22nd August                        NaN   \n",
       "2                          Starting on 22nd August                        NaN   \n",
       "3                          Starting on 22nd August                        NaN   \n",
       "4                                              NaN                        NaN   \n",
       "\n",
       "       Cohort_Product_Growth Hours_Per_Week  \n",
       "0  Starting on 5th September    20-25 hours  \n",
       "1    Starting on 3rd October    10-15 hours  \n",
       "2                        NaN    15-20 hours  \n",
       "3                        NaN    20-25 hours  \n",
       "4                        NaN    20-25 hours  \n",
       "\n",
       "[5 rows x 27 columns]"
      ]
     },
     "execution_count": 8,
     "metadata": {},
     "output_type": "execute_result"
    }
   ],
   "source": [
    "df.head()"
   ]
  },
  {
   "cell_type": "code",
   "execution_count": 9,
   "id": "4fbf14ed",
   "metadata": {},
   "outputs": [],
   "source": [
    "# Extract dataset having updated column names to further work on\n",
    "df.to_csv(\"Dataset.csv\",index=False)"
   ]
  },
  {
   "cell_type": "code",
   "execution_count": 10,
   "id": "a83253fb",
   "metadata": {},
   "outputs": [],
   "source": [
    "# Read Updated column name dataset\n",
    "df = pd.read_csv(\"Dataset.csv\")"
   ]
  },
  {
   "cell_type": "code",
   "execution_count": 11,
   "id": "f2344227",
   "metadata": {
    "scrolled": false
   },
   "outputs": [
    {
     "data": {
      "text/plain": [
       "Name                             0\n",
       "Squad_Num                     1188\n",
       "Prefered_Lang                   19\n",
       "Interested_Grp                   0\n",
       "Age                              0\n",
       "City                             0\n",
       "Country                          0\n",
       "Region                           4\n",
       "Timezone                         1\n",
       "Occupation                       0\n",
       "Degree                           4\n",
       "Prev_Took_Courses                0\n",
       "Intern_Experience                0\n",
       "Product_Management               0\n",
       "Digital_Marketing              709\n",
       "Market_Research                220\n",
       "Digital_Illustration           303\n",
       "Product_Design                 265\n",
       "Product_Development            661\n",
       "Growth_Marketing               888\n",
       "Leading_Groups                 689\n",
       "Internship_News                  0\n",
       "Cohort_Product_Marketing       716\n",
       "Cohort_Product_Design          587\n",
       "Cohort_Product_Development     662\n",
       "Cohort_Product_Growth          889\n",
       "Hours_Per_Week                   0\n",
       "dtype: int64"
      ]
     },
     "execution_count": 11,
     "metadata": {},
     "output_type": "execute_result"
    }
   ],
   "source": [
    "# Check dataset having null values\n",
    "df.isnull().sum()"
   ]
  },
  {
   "cell_type": "code",
   "execution_count": 12,
   "id": "e2673c92",
   "metadata": {},
   "outputs": [
    {
     "data": {
      "text/plain": [
       "<AxesSubplot:>"
      ]
     },
     "execution_count": 12,
     "metadata": {},
     "output_type": "execute_result"
    },
    {
     "data": {
      "image/png": "[encoded data removed]",
      "text/plain": [
       "<Figure size 720x360 with 1 Axes>"
      ]
     },
     "metadata": {
      "needs_background": "light"
     },
     "output_type": "display_data"
    }
   ],
   "source": [
    "# White lines in plot shows missing values in the each column\n",
    "fig, ax = plt.subplots(figsize=(10,5)) \n",
    "sns.heatmap(df.isnull(), cbar=False)"
   ]
  },
  {
   "cell_type": "markdown",
   "id": "f9ee400e",
   "metadata": {},
   "source": [
    "#### Squad Number Column"
   ]
  },
  {
   "cell_type": "code",
   "execution_count": 13,
   "id": "45c34fe5",
   "metadata": {
    "scrolled": true
   },
   "outputs": [
    {
     "data": {
      "text/plain": [
       "0   -1\n",
       "1   -1\n",
       "2   -1\n",
       "3   -1\n",
       "4   -1\n",
       "Name: Squad_Num, dtype: int64"
      ]
     },
     "execution_count": 13,
     "metadata": {},
     "output_type": "execute_result"
    }
   ],
   "source": [
    "# The values in the column used to be objects which are now converted to float.\n",
    "df[\"Squad_Num\"] = pd.to_numeric(df[\"Squad_Num\"], downcast=\"integer\")\n",
    "\n",
    "# Replacing NaN values with mean of column\n",
    "# Initially storing -1 for squad number just to \n",
    "df['Squad_Num'].fillna((-1) , inplace = True)\n",
    "\n",
    "# Changing type to integer\n",
    "df['Squad_Num'] = df['Squad_Num'].astype(int)\n",
    "\n",
    "df['Squad_Num'].head()"
   ]
  },
  {
   "cell_type": "markdown",
   "id": "fd3cd8f2",
   "metadata": {},
   "source": [
    "####  Prefered Language Column"
   ]
  },
  {
   "cell_type": "code",
   "execution_count": 14,
   "id": "367d42a8",
   "metadata": {
    "scrolled": true
   },
   "outputs": [
    {
     "data": {
      "text/plain": [
       "0    English\n",
       "1    English\n",
       "2    English\n",
       "3    Spanish\n",
       "4    Spanish\n",
       "Name: Prefered_Lang, dtype: object"
      ]
     },
     "execution_count": 14,
     "metadata": {},
     "output_type": "execute_result"
    }
   ],
   "source": [
    "# Using Regex pattern, we are storing the first prefrred language of the person\n",
    "# Normalizing the long statements to languages only e.g. \"I am comfortbale to english\" = \"English\"\n",
    "df['Prefered_Lang']=df['Prefered_Lang'].replace(to_replace='.*[fF,]r.*', value= 'French', regex= True) \n",
    "df['Prefered_Lang']=df['Prefered_Lang'].replace(to_replace='.*[Ee,]n.*', value= 'English', regex= True)  \n",
    "df['Prefered_Lang']=df['Prefered_Lang'].replace(to_replace='.*[Aa,]r.*', value= 'Arabic', regex= True)  \n",
    "df['Prefered_Lang']=df['Prefered_Lang'].replace(to_replace='.*[eE,]N.*', value= 'English', regex= True)  \n",
    "df['Prefered_Lang']=df['Prefered_Lang'].replace(to_replace='.*[Bb,]a.*', value= 'Bahasa', regex= True)  \n",
    "df['Prefered_Lang']=df['Prefered_Lang'].replace(to_replace='.*[Uu,]r.*', value= 'Urdu', regex= True)\n",
    "df['Prefered_Lang']=df['Prefered_Lang'].replace(to_replace='.*[Uu,]k.*', value= 'Ukranian', regex= True)  \n",
    "df['Prefered_Lang']=df['Prefered_Lang'].replace(to_replace='.*[Tt,]a.*', value= 'Tamil', regex= True)  \n",
    "df['Prefered_Lang']=df['Prefered_Lang'].replace(to_replace='.*[Ss,]p.*', value= 'Spanish', regex= True)  \n",
    "df['Prefered_Lang']=df['Prefered_Lang'].replace(to_replace='.*[Hh,]i.*', value= 'Hindi', regex= True)  \n",
    "df['Prefered_Lang']=df['Prefered_Lang'].replace(to_replace='.*[pP,]u.*', value= 'Punjabi', regex= True)  \n",
    "df['Prefered_Lang']=df['Prefered_Lang'].replace(to_replace='.*[nN,]o.*', value= 'English', regex= True)  \n",
    "\n",
    "df['Prefered_Lang'].head()"
   ]
  },
  {
   "cell_type": "markdown",
   "id": "07a3cee1",
   "metadata": {},
   "source": [
    "#### Interested Group Column"
   ]
  },
  {
   "cell_type": "code",
   "execution_count": 15,
   "id": "94228110",
   "metadata": {},
   "outputs": [
    {
     "data": {
      "text/plain": [
       "0    Product Marketing\n",
       "1    Product Marketing\n",
       "2       Product Design\n",
       "3       Product Design\n",
       "4    Product Marketing\n",
       "Name: Interested_Grp, dtype: object"
      ]
     },
     "execution_count": 15,
     "metadata": {},
     "output_type": "execute_result"
    }
   ],
   "source": [
    "# Using split method to discard all the values after comma\n",
    "# e.g Original values = Product Growth, Product Marketing | Processed value = Product Growth\n",
    "df['Interested_Grp']=df['Interested_Grp'].str.split(',').str[0]\n",
    "df['Interested_Grp'].head()"
   ]
  },
  {
   "cell_type": "markdown",
   "id": "ef1cd1ca",
   "metadata": {},
   "source": [
    "#### Age, City, Country Column"
   ]
  },
  {
   "cell_type": "code",
   "execution_count": 16,
   "id": "5befd577",
   "metadata": {},
   "outputs": [],
   "source": [
    "# Age, city and column have no missing values\n",
    "# We will encode its values later"
   ]
  },
  {
   "cell_type": "markdown",
   "id": "60cc7fef",
   "metadata": {},
   "source": [
    "#### Region Column"
   ]
  },
  {
   "cell_type": "code",
   "execution_count": 17,
   "id": "3bc07c1f",
   "metadata": {},
   "outputs": [],
   "source": [
    "# Identify missing values from Region\n",
    "temp1 = pd.isnull(df[\"Region\"])\n",
    "temp2 = df[temp1]\n",
    "\n",
    "# temp 2 Region data contain null values\n",
    "temp2['Timezone']= temp2['Timezone'].str.split(',').str[0]\n",
    "temp2['Timezone']\n",
    "\n",
    "# Based on the Time zone replacing all the null values in the Region\n",
    "temp2['Region'] = temp2[\"Timezone\"]\n",
    "\n",
    "# Upadated values in temp2 are stored inplace of missing values in df\n",
    "df.loc[temp2.index, :] = temp2[:]"
   ]
  },
  {
   "cell_type": "markdown",
   "id": "3be3e836",
   "metadata": {},
   "source": [
    "#### Timezone Column"
   ]
  },
  {
   "cell_type": "code",
   "execution_count": 18,
   "id": "ab058b1a",
   "metadata": {
    "scrolled": true
   },
   "outputs": [
    {
     "data": {
      "text/plain": [
       "0      Africa\n",
       "1      Africa\n",
       "2    Americas\n",
       "3    Americas\n",
       "4    Americas\n",
       "Name: Timezone, dtype: object"
      ]
     },
     "execution_count": 18,
     "metadata": {},
     "output_type": "execute_result"
    }
   ],
   "source": [
    "# Values of Region and Timezone are same other then some values.\n",
    "df['Timezone']=df[\"Region\"]\n",
    "df['Timezone'] = df['Timezone'].replace(['APAC','MENA'],['Asia','Africa'])\n",
    "df['Timezone'].head()"
   ]
  },
  {
   "cell_type": "markdown",
   "id": "281d0dbb",
   "metadata": {},
   "source": [
    "#### Occupation Column"
   ]
  },
  {
   "cell_type": "code",
   "execution_count": 19,
   "id": "6122e37e",
   "metadata": {
    "scrolled": false
   },
   "outputs": [
    {
     "data": {
      "text/plain": [
       "0    1\n",
       "1    1\n",
       "2    2\n",
       "3    2\n",
       "4    1\n",
       "Name: Occupation, dtype: int64"
      ]
     },
     "execution_count": 19,
     "metadata": {},
     "output_type": "execute_result"
    }
   ],
   "source": [
    "#Changing all the students (High School Student and Uni Students) to '0'\n",
    "df['Occupation'] = df['Occupation'].replace(['University Student'],0)\n",
    "df['Occupation'] = df['Occupation'].replace(['High School Student'],0)\n",
    "\n",
    "#All Unemployed are marked as '1'\n",
    "df['Occupation'] = df['Occupation'].replace(['Recently Graduated and Unemployed'],1)\n",
    "df['Occupation'] = df['Occupation'].replace(['Currently Unemployed'],1)\n",
    "\n",
    "#Changing all the Employed data sets to '2'\n",
    "df['Occupation'] = df['Occupation'].replace(['Employed'],2)\n",
    "\n",
    "# Typecasting into Integar\n",
    "df['Occupation'] = df['Occupation'].astype(int)\n",
    "\n",
    "df['Occupation'].head()"
   ]
  },
  {
   "cell_type": "markdown",
   "id": "ce6ca7d3",
   "metadata": {},
   "source": [
    "#### Degree Column"
   ]
  },
  {
   "cell_type": "code",
   "execution_count": 20,
   "id": "45eed704",
   "metadata": {},
   "outputs": [
    {
     "data": {
      "text/plain": [
       "0                               computer science\n",
       "1                  Marketing and communication q\n",
       "2                               Public Relations\n",
       "3                                            yes\n",
       "4    Advertising and institutional communication\n",
       "Name: Degree, dtype: object"
      ]
     },
     "execution_count": 20,
     "metadata": {},
     "output_type": "execute_result"
    }
   ],
   "source": [
    "# Replacing NaN values with String = \"Other\"\n",
    "check = \"Other\"\n",
    "df['Degree'].fillna((check) , inplace = True)\n",
    "\n",
    "df['Degree'].head()"
   ]
  },
  {
   "cell_type": "markdown",
   "id": "a0974e08",
   "metadata": {},
   "source": [
    "#### Previously Took Courses Column"
   ]
  },
  {
   "cell_type": "code",
   "execution_count": 21,
   "id": "164d44c3",
   "metadata": {
    "scrolled": true
   },
   "outputs": [
    {
     "data": {
      "text/plain": [
       "0    1\n",
       "1    1\n",
       "2    1\n",
       "3    1\n",
       "4    0\n",
       "Name: Prev_Took_Courses, dtype: int64"
      ]
     },
     "execution_count": 21,
     "metadata": {},
     "output_type": "execute_result"
    }
   ],
   "source": [
    "#\"No, I have not\" is replaced with \"0\"\n",
    "df['Prev_Took_Courses'] = df['Prev_Took_Courses'].replace(['No, I have not'],0)\n",
    "\n",
    "#\"Yes, I have completed multiple such courses\" is replaced with \"1\"\n",
    "df['Prev_Took_Courses'] = df['Prev_Took_Courses'].replace(['Yes, I have completed multiple such courses'],1)\n",
    "\n",
    "#\"I have started a few, but haven't really gotten much out of them/haven't completed any\" is replaced with \"2\"\n",
    "df['Prev_Took_Courses'] = df['Prev_Took_Courses'].replace(['I have started a few, but haven\\'t really gotten much out of them/haven\\'t completed any'],2)\n",
    "\n",
    "# Typecasting into Integar\n",
    "df['Prev_Took_Courses'] = df['Prev_Took_Courses'].astype(int)\n",
    "\n",
    "df['Prev_Took_Courses'].head(5)"
   ]
  },
  {
   "cell_type": "markdown",
   "id": "8452ae2d",
   "metadata": {},
   "source": [
    "#### Intern having Previous experience"
   ]
  },
  {
   "cell_type": "code",
   "execution_count": 22,
   "id": "6dc9621f",
   "metadata": {
    "scrolled": true
   },
   "outputs": [
    {
     "data": {
      "text/plain": [
       "0    1\n",
       "1    1\n",
       "2    0\n",
       "3    0\n",
       "4    0\n",
       "Name: Intern_Experience, dtype: int64"
      ]
     },
     "execution_count": 22,
     "metadata": {},
     "output_type": "execute_result"
    }
   ],
   "source": [
    "# \"No\" is replaced with \"0\"\n",
    "df['Intern_Experience'] = df['Intern_Experience'].replace(['No'],0)\n",
    "\n",
    "# \"Yes\" is replaced with \"1\"\n",
    "df['Intern_Experience'] = df['Intern_Experience'].replace(['Yes'],1)\n",
    "\n",
    "# Typecasting into Integar\n",
    "df['Intern_Experience'] = df['Intern_Experience'].astype(int)\n",
    "\n",
    "df['Intern_Experience'].head()"
   ]
  },
  {
   "cell_type": "markdown",
   "id": "ac285f10",
   "metadata": {},
   "source": [
    "#### Product Management Column"
   ]
  },
  {
   "cell_type": "code",
   "execution_count": 23,
   "id": "9c37f24f",
   "metadata": {},
   "outputs": [],
   "source": [
    "# We will use this column for insights"
   ]
  },
  {
   "cell_type": "markdown",
   "id": "2e825ed9",
   "metadata": {},
   "source": [
    "#### Digital Marketing Column"
   ]
  },
  {
   "cell_type": "code",
   "execution_count": 24,
   "id": "47847162",
   "metadata": {
    "scrolled": false
   },
   "outputs": [
    {
     "data": {
      "text/plain": [
       "0    5\n",
       "1    4\n",
       "2    3\n",
       "3    3\n",
       "4    2\n",
       "Name: Digital_Marketing, dtype: int64"
      ]
     },
     "execution_count": 24,
     "metadata": {},
     "output_type": "execute_result"
    }
   ],
   "source": [
    "# The values in the column used to be objects which are now converted to float.\n",
    "df[\"Digital_Marketing\"] = pd.to_numeric(df[\"Digital_Marketing\"], downcast=\"integer\")\n",
    "\n",
    "# Calculating the mean of column\n",
    "mean_df = (df['Digital_Marketing'].mean())\n",
    "\n",
    "# Replacing NaN values with mean of column\n",
    "df['Digital_Marketing'].fillna((mean_df) , inplace = True)\n",
    "\n",
    "# Changing type to integer\n",
    "df['Digital_Marketing'] = df['Digital_Marketing'].astype(int)\n",
    "\n",
    "df['Digital_Marketing'].head()"
   ]
  },
  {
   "cell_type": "markdown",
   "id": "255b041a",
   "metadata": {},
   "source": [
    "#### Market Research Column"
   ]
  },
  {
   "cell_type": "code",
   "execution_count": 25,
   "id": "68fa3300",
   "metadata": {},
   "outputs": [
    {
     "data": {
      "text/plain": [
       "0    3\n",
       "1    4\n",
       "2    3\n",
       "3    2\n",
       "4    2\n",
       "Name: Market_Research, dtype: int64"
      ]
     },
     "execution_count": 25,
     "metadata": {},
     "output_type": "execute_result"
    }
   ],
   "source": [
    "# The values in the column used to be objects which are now converted to float.\n",
    "df[\"Market_Research\"] = pd.to_numeric(df[\"Market_Research\"], downcast=\"integer\")\n",
    "\n",
    "# Calculating the mean of column\n",
    "mean_df = (df['Market_Research'].mean())\n",
    "\n",
    "# Replacing NaN values with mean of column\n",
    "df['Market_Research'].fillna((mean_df) , inplace = True)\n",
    "\n",
    "# Changing type to integer\n",
    "df['Market_Research'] = df['Market_Research'].astype(int)\n",
    "\n",
    "df['Market_Research'].head()"
   ]
  },
  {
   "cell_type": "markdown",
   "id": "561ca5af",
   "metadata": {},
   "source": [
    "#### Digital Illustration Column"
   ]
  },
  {
   "cell_type": "code",
   "execution_count": 26,
   "id": "7063d466",
   "metadata": {},
   "outputs": [
    {
     "data": {
      "text/plain": [
       "0    1\n",
       "1    2\n",
       "2    3\n",
       "3    3\n",
       "4    2\n",
       "Name: Digital_Illustration, dtype: int64"
      ]
     },
     "execution_count": 26,
     "metadata": {},
     "output_type": "execute_result"
    }
   ],
   "source": [
    "# The values in the column used to be objects which are now converted to float.\n",
    "df[\"Digital_Illustration\"] = pd.to_numeric(df[\"Digital_Illustration\"], downcast=\"integer\")\n",
    "\n",
    "# Calculating the mean of column\n",
    "mean_df = (df['Digital_Illustration'].mean())\n",
    "\n",
    "# Replacing NaN values with mean of column\n",
    "df['Digital_Illustration'].fillna((mean_df) , inplace = True)\n",
    "\n",
    "# Changing type to integer\n",
    "df['Digital_Illustration'] = df['Digital_Illustration'].astype(int)\n",
    "\n",
    "df['Digital_Illustration'].head()"
   ]
  },
  {
   "cell_type": "markdown",
   "id": "a6017205",
   "metadata": {},
   "source": [
    "#### Product Design Column"
   ]
  },
  {
   "cell_type": "code",
   "execution_count": 27,
   "id": "e8f820d5",
   "metadata": {},
   "outputs": [
    {
     "data": {
      "text/plain": [
       "0    2\n",
       "1    3\n",
       "2    4\n",
       "3    3\n",
       "4    2\n",
       "Name: Product_Design, dtype: int64"
      ]
     },
     "execution_count": 27,
     "metadata": {},
     "output_type": "execute_result"
    }
   ],
   "source": [
    "# The values in the column used to be objects which are now converted to float.\n",
    "df[\"Product_Design\"] = pd.to_numeric(df[\"Product_Design\"], downcast=\"integer\")\n",
    "\n",
    "# Calculating the mean of column\n",
    "mean_df = (df['Product_Design'].mean())\n",
    "\n",
    "# Replacing NaN values with mean of column\n",
    "df['Product_Design'].fillna((mean_df) , inplace = True)\n",
    "\n",
    "# Changing type to integer\n",
    "df['Product_Design'] = df['Product_Design'].astype(int)\n",
    "\n",
    "df['Product_Design'].head()"
   ]
  },
  {
   "cell_type": "markdown",
   "id": "c58147b7",
   "metadata": {},
   "source": [
    "#### Product Development Column"
   ]
  },
  {
   "cell_type": "code",
   "execution_count": 28,
   "id": "f0a38507",
   "metadata": {},
   "outputs": [
    {
     "data": {
      "text/plain": [
       "0    2\n",
       "1    2\n",
       "2    2\n",
       "3    2\n",
       "4    2\n",
       "Name: Product_Development, dtype: int64"
      ]
     },
     "execution_count": 28,
     "metadata": {},
     "output_type": "execute_result"
    }
   ],
   "source": [
    "# The values in the column used to be objects which are now converted to float.\n",
    "df[\"Product_Development\"] = pd.to_numeric(df[\"Product_Development\"], downcast=\"integer\")\n",
    "\n",
    "# Calculating the mean of column\n",
    "mean_df = (df['Product_Development'].mean())\n",
    "\n",
    "# Replacing NaN values with mean of column\n",
    "df['Product_Development'].fillna((mean_df) , inplace = True)\n",
    "\n",
    "# Changing type to integer\n",
    "df['Product_Development'] = df['Product_Development'].astype(int)\n",
    "\n",
    "df['Product_Development'].head()"
   ]
  },
  {
   "cell_type": "markdown",
   "id": "780d6b9f",
   "metadata": {},
   "source": [
    "#### Growth Marketing Column"
   ]
  },
  {
   "cell_type": "code",
   "execution_count": 29,
   "id": "aafe651e",
   "metadata": {
    "scrolled": true
   },
   "outputs": [
    {
     "data": {
      "text/plain": [
       "0    4\n",
       "1    4\n",
       "2    2\n",
       "3    2\n",
       "4    2\n",
       "Name: Growth_Marketing, dtype: int64"
      ]
     },
     "execution_count": 29,
     "metadata": {},
     "output_type": "execute_result"
    }
   ],
   "source": [
    "# The values in the column used to be objects which are now converted to float.\n",
    "df[\"Growth_Marketing\"] = pd.to_numeric(df[\"Growth_Marketing\"], downcast=\"integer\")\n",
    "\n",
    "# Calculating the mean of column\n",
    "mean_df = (df['Growth_Marketing'].mean())\n",
    "\n",
    "# Replacing NaN values with mean of column\n",
    "df['Growth_Marketing'].fillna((mean_df) , inplace = True)\n",
    "\n",
    "# Changing type to integer\n",
    "df['Growth_Marketing'] = df['Growth_Marketing'].astype(int)\n",
    "\n",
    "df['Growth_Marketing'].head()"
   ]
  },
  {
   "cell_type": "markdown",
   "id": "f9aa61e4",
   "metadata": {},
   "source": [
    "#### Leading Groups Column"
   ]
  },
  {
   "cell_type": "code",
   "execution_count": 30,
   "id": "819e8933",
   "metadata": {
    "scrolled": true
   },
   "outputs": [
    {
     "data": {
      "text/plain": [
       "0    3\n",
       "1    4\n",
       "2    5\n",
       "3    4\n",
       "4    4\n",
       "Name: Leading_Groups, dtype: int64"
      ]
     },
     "execution_count": 30,
     "metadata": {},
     "output_type": "execute_result"
    }
   ],
   "source": [
    "# The values in the column used to be objects which are now converted to float.\n",
    "df[\"Leading_Groups\"] = pd.to_numeric(df[\"Leading_Groups\"], downcast=\"integer\")\n",
    "\n",
    "# Calculating the mean of column\n",
    "mean_df = (df['Leading_Groups'].mean())\n",
    "\n",
    "# Replacing NaN values with mean of column\n",
    "df['Leading_Groups'].fillna((mean_df) , inplace = True)\n",
    "\n",
    "# Changing type to integer\n",
    "df['Leading_Groups'] = df['Leading_Groups'].astype(int)\n",
    "\n",
    "df['Leading_Groups'].head()"
   ]
  },
  {
   "cell_type": "code",
   "execution_count": 31,
   "id": "246fa09e",
   "metadata": {},
   "outputs": [
    {
     "data": {
      "text/plain": [
       "0      Starting on 15th August,Starting on 22nd August\n",
       "1    Starting on 12th September,Starting on 15th Au...\n",
       "2                                                  Any\n",
       "3                                                  Any\n",
       "4      Starting on 22nd August,Starting on 15th August\n",
       "Name: Cohort_Product_Marketing, dtype: object"
      ]
     },
     "execution_count": 31,
     "metadata": {},
     "output_type": "execute_result"
    }
   ],
   "source": [
    "# Replacing NaN values with String = \"Any\"\n",
    "check = \"Any\"\n",
    "df['Cohort_Product_Marketing'].fillna((check) , inplace = True)\n",
    "\n",
    "df['Cohort_Product_Marketing'].head()"
   ]
  },
  {
   "cell_type": "code",
   "execution_count": 32,
   "id": "36fdf85b",
   "metadata": {},
   "outputs": [
    {
     "data": {
      "text/plain": [
       "0                                                Any\n",
       "1    Starting on 3rd October,Starting on 22nd August\n",
       "2                            Starting on 22nd August\n",
       "3                            Starting on 22nd August\n",
       "4                                                Any\n",
       "Name: Cohort_Product_Design, dtype: object"
      ]
     },
     "execution_count": 32,
     "metadata": {},
     "output_type": "execute_result"
    }
   ],
   "source": [
    "# Replacing NaN values with String = \"Any\"\n",
    "check = \"Any\"\n",
    "df['Cohort_Product_Design'].fillna((check) , inplace = True)\n",
    "\n",
    "df['Cohort_Product_Design'].head()"
   ]
  },
  {
   "cell_type": "code",
   "execution_count": 33,
   "id": "daf01d0c",
   "metadata": {},
   "outputs": [
    {
     "data": {
      "text/plain": [
       "0    Any\n",
       "1    Any\n",
       "2    Any\n",
       "3    Any\n",
       "4    Any\n",
       "Name: Cohort_Product_Development, dtype: object"
      ]
     },
     "execution_count": 33,
     "metadata": {},
     "output_type": "execute_result"
    }
   ],
   "source": [
    "# Replacing NaN values with String = \"Any\"\n",
    "check = \"Any\"\n",
    "df['Cohort_Product_Development'].fillna((check) , inplace = True)\n",
    "\n",
    "df['Cohort_Product_Development'].head()"
   ]
  },
  {
   "cell_type": "code",
   "execution_count": 34,
   "id": "b6f2b8ab",
   "metadata": {},
   "outputs": [
    {
     "data": {
      "text/plain": [
       "0    Starting on 5th September\n",
       "1      Starting on 3rd October\n",
       "2                          Any\n",
       "3                          Any\n",
       "4                          Any\n",
       "Name: Cohort_Product_Growth, dtype: object"
      ]
     },
     "execution_count": 34,
     "metadata": {},
     "output_type": "execute_result"
    }
   ],
   "source": [
    "# Replacing NaN values with String = \"Any\"\n",
    "check = \"Any\"\n",
    "df['Cohort_Product_Growth'].fillna((check) , inplace = True)\n",
    "\n",
    "df['Cohort_Product_Growth'].head()"
   ]
  },
  {
   "cell_type": "code",
   "execution_count": 35,
   "id": "787e4cfd",
   "metadata": {},
   "outputs": [],
   "source": [
    "# Extract dataset having updated column names to further work on\n",
    "df.to_csv(\"newDataset.csv\",index=False)"
   ]
  },
  {
   "cell_type": "markdown",
   "id": "7ae23da2",
   "metadata": {},
   "source": [
    "<center><h3>Encoding the dataset</h3></center>"
   ]
  },
  {
   "cell_type": "code",
   "execution_count": 36,
   "id": "00062f48",
   "metadata": {},
   "outputs": [],
   "source": [
    "# Making instance of LabelEncoder to encode data values into 0,1,2,..\n",
    "labelencoder = LabelEncoder()\n",
    "\n",
    "df['Prefered_Lang'] = labelencoder.fit_transform(df['Prefered_Lang'])\n",
    "df['Interested_Grp'] = labelencoder.fit_transform(df['Interested_Grp'])\n",
    "df['Country'] = labelencoder.fit_transform(df['Country'])\n",
    "df['Region'] = labelencoder.fit_transform(df['Region'])\n",
    "df['Timezone'] = labelencoder.fit_transform(df['Timezone'])\n",
    "df['Hours_Per_Week'] = labelencoder.fit_transform(df['Hours_Per_Week'])"
   ]
  },
  {
   "cell_type": "code",
   "execution_count": 37,
   "id": "bd5d8cdc",
   "metadata": {
    "scrolled": false
   },
   "outputs": [
    {
     "data": {
      "text/plain": [
       "Name                          0\n",
       "Squad_Num                     0\n",
       "Prefered_Lang                 0\n",
       "Interested_Grp                0\n",
       "Age                           0\n",
       "City                          0\n",
       "Country                       0\n",
       "Region                        0\n",
       "Timezone                      0\n",
       "Occupation                    0\n",
       "Degree                        0\n",
       "Prev_Took_Courses             0\n",
       "Intern_Experience             0\n",
       "Product_Management            0\n",
       "Digital_Marketing             0\n",
       "Market_Research               0\n",
       "Digital_Illustration          0\n",
       "Product_Design                0\n",
       "Product_Development           0\n",
       "Growth_Marketing              0\n",
       "Leading_Groups                0\n",
       "Internship_News               0\n",
       "Cohort_Product_Marketing      0\n",
       "Cohort_Product_Design         0\n",
       "Cohort_Product_Development    0\n",
       "Cohort_Product_Growth         0\n",
       "Hours_Per_Week                0\n",
       "dtype: int64"
      ]
     },
     "execution_count": 37,
     "metadata": {},
     "output_type": "execute_result"
    }
   ],
   "source": [
    "df.isnull().sum()"
   ]
  },
  {
   "cell_type": "code",
   "execution_count": 38,
   "id": "5c06de8a",
   "metadata": {
    "scrolled": false
   },
   "outputs": [
    {
     "data": {
      "text/plain": [
       "<AxesSubplot:>"
      ]
     },
     "execution_count": 38,
     "metadata": {},
     "output_type": "execute_result"
    },
    {
     "data": {
      "image/png": "[encoded data removed]",
      "text/plain": [
       "<Figure size 720x360 with 1 Axes>"
      ]
     },
     "metadata": {
      "needs_background": "light"
     },
     "output_type": "display_data"
    }
   ],
   "source": [
    "# now the plot is blank ass all the missing values are handled\n",
    "fig, ax = plt.subplots(figsize=(10,5)) \n",
    "sns.heatmap(df.isnull(), cbar=False)"
   ]
  },
  {
   "cell_type": "markdown",
   "id": "b9486c8c",
   "metadata": {},
   "source": [
    "<center><h3>Applying K - Means Algorithm</h3></center>"
   ]
  },
  {
   "cell_type": "code",
   "execution_count": 39,
   "id": "0361ac41",
   "metadata": {},
   "outputs": [
    {
     "data": {
      "image/png": "[encoded data removed]",
      "text/plain": [
       "<Figure size 1440x360 with 5 Axes>"
      ]
     },
     "metadata": {
      "needs_background": "light"
     },
     "output_type": "display_data"
    }
   ],
   "source": [
    "# Plots of factors contributing most in squad arrangement\n",
    "\n",
    "plt.figure(1 , figsize = (20 , 5))\n",
    "n = 0 \n",
    "for x in ['Prefered_Lang' , 'Interested_Grp' ,'Region','Timezone','Hours_Per_Week']:\n",
    "    n += 1\n",
    "    plt.subplot(1 , 5 , n)\n",
    "    plt.subplots_adjust(hspace = 0 , wspace = 0.4)\n",
    "    sns.distplot(df[x] , bins = 15)\n",
    "    plt.title('Distplot of {}'.format(x))\n",
    "plt.show()"
   ]
  },
  {
   "cell_type": "code",
   "execution_count": 40,
   "id": "9f554ca3",
   "metadata": {},
   "outputs": [],
   "source": [
    "# Applying K - Mean algorithm on dataset provided with input factors\n",
    "\n",
    "X3 = df[['Prefered_Lang' , 'Interested_Grp' ,'Region','Timezone','Hours_Per_Week']].iloc[: , :].values\n",
    "inertia = []\n",
    "for n in range(1 , 11): \n",
    "    algorithm = (KMeans(n_clusters = n, init='k-means++', n_init = 10, max_iter=300, \n",
    "                        tol=0.0001, random_state= 111, algorithm='elkan'))\n",
    "    algorithm.fit(X3)\n",
    "    inertia.append(algorithm.inertia_)\n",
    "    "
   ]
  },
  {
   "cell_type": "code",
   "execution_count": 41,
   "id": "16f45f47",
   "metadata": {},
   "outputs": [
    {
     "data": {
      "image/png": "[encoded data removed]",
      "text/plain": [
       "<Figure size 720x432 with 1 Axes>"
      ]
     },
     "metadata": {
      "needs_background": "light"
     },
     "output_type": "display_data"
    }
   ],
   "source": [
    "# Plot \n",
    "\n",
    "plt.figure(1 , figsize = (10 ,6))\n",
    "plt.plot(np.arange(1 , 11) , inertia , 'o')\n",
    "plt.plot(np.arange(1 , 11) , inertia , '-' , alpha = 0.5)\n",
    "plt.xlabel('Number of Clusters') , plt.ylabel('Inertia')\n",
    "plt.show()"
   ]
  },
  {
   "cell_type": "code",
   "execution_count": 42,
   "id": "59faed69",
   "metadata": {},
   "outputs": [],
   "source": [
    "algorithm = (KMeans(n_clusters = 100 ,init='k-means++', n_init = 10 ,max_iter=300, \n",
    "                        tol=0.0001,  random_state= 111  , algorithm='elkan') )\n",
    "algorithm.fit(X3)\n",
    "labels3 = algorithm.labels_\n",
    "centroids3 = algorithm.cluster_centers_\n",
    "\n",
    "y_kmeans = algorithm.fit_predict(X3)\n",
    "df['cluster'] = pd.DataFrame(y_kmeans)\n",
    "df['cluster'] = df['cluster']+1"
   ]
  },
  {
   "cell_type": "code",
   "execution_count": 43,
   "id": "35791b28",
   "metadata": {},
   "outputs": [],
   "source": [
    "df_2 = pd.read_csv(\"newDataset.csv\")"
   ]
  },
  {
   "cell_type": "code",
   "execution_count": 44,
   "id": "fbd23ad6",
   "metadata": {},
   "outputs": [],
   "source": [
    "df_2['Squad_Num'] = df['cluster']"
   ]
  },
  {
   "cell_type": "code",
   "execution_count": 45,
   "id": "172df7a7",
   "metadata": {},
   "outputs": [],
   "source": [
    "df_2.sort_values(\"Squad_Num\",inplace=True)"
   ]
  },
  {
   "cell_type": "code",
   "execution_count": 78,
   "id": "59b54a99",
   "metadata": {
    "scrolled": false
   },
   "outputs": [
    {
     "data": {
      "text/html": [
       "<div>\n",
       "<style scoped>\n",
       "    .dataframe tbody tr th:only-of-type {\n",
       "        vertical-align: middle;\n",
       "    }\n",
       "\n",
       "    .dataframe tbody tr th {\n",
       "        vertical-align: top;\n",
       "    }\n",
       "\n",
       "    .dataframe thead th {\n",
       "        text-align: right;\n",
       "    }\n",
       "</style>\n",
       "<table border=\"1\" class=\"dataframe\">\n",
       "  <thead>\n",
       "    <tr style=\"text-align: right;\">\n",
       "      <th></th>\n",
       "      <th>Name</th>\n",
       "      <th>Squad_Num</th>\n",
       "      <th>Prefered_Lang</th>\n",
       "      <th>Interested_Grp</th>\n",
       "      <th>Age</th>\n",
       "      <th>City</th>\n",
       "      <th>Country</th>\n",
       "      <th>Region</th>\n",
       "      <th>Timezone</th>\n",
       "      <th>Occupation</th>\n",
       "      <th>...</th>\n",
       "      <th>Product_Design</th>\n",
       "      <th>Product_Development</th>\n",
       "      <th>Growth_Marketing</th>\n",
       "      <th>Leading_Groups</th>\n",
       "      <th>Internship_News</th>\n",
       "      <th>Cohort_Product_Marketing</th>\n",
       "      <th>Cohort_Product_Design</th>\n",
       "      <th>Cohort_Product_Development</th>\n",
       "      <th>Cohort_Product_Growth</th>\n",
       "      <th>Hours_Per_Week</th>\n",
       "    </tr>\n",
       "  </thead>\n",
       "  <tbody>\n",
       "    <tr>\n",
       "      <th>593</th>\n",
       "      <td>Alessandra</td>\n",
       "      <td>1</td>\n",
       "      <td>English</td>\n",
       "      <td>Product Design</td>\n",
       "      <td>20.0</td>\n",
       "      <td>Faisalabad</td>\n",
       "      <td>Pakistan</td>\n",
       "      <td>APAC</td>\n",
       "      <td>Asia</td>\n",
       "      <td>0</td>\n",
       "      <td>...</td>\n",
       "      <td>2</td>\n",
       "      <td>2</td>\n",
       "      <td>2</td>\n",
       "      <td>5</td>\n",
       "      <td>email</td>\n",
       "      <td>Starting on 15th August</td>\n",
       "      <td>Starting on 22nd August</td>\n",
       "      <td>Any</td>\n",
       "      <td>Any</td>\n",
       "      <td>10-15 hours</td>\n",
       "    </tr>\n",
       "    <tr>\n",
       "      <th>706</th>\n",
       "      <td>Charles</td>\n",
       "      <td>1</td>\n",
       "      <td>English</td>\n",
       "      <td>Product Design</td>\n",
       "      <td>20.0</td>\n",
       "      <td>hyderabad</td>\n",
       "      <td>Pakistan</td>\n",
       "      <td>APAC</td>\n",
       "      <td>Asia</td>\n",
       "      <td>0</td>\n",
       "      <td>...</td>\n",
       "      <td>3</td>\n",
       "      <td>2</td>\n",
       "      <td>2</td>\n",
       "      <td>3</td>\n",
       "      <td>LinkedIn</td>\n",
       "      <td>Any</td>\n",
       "      <td>Starting on 5th September</td>\n",
       "      <td>Any</td>\n",
       "      <td>Any</td>\n",
       "      <td>10-15 hours</td>\n",
       "    </tr>\n",
       "    <tr>\n",
       "      <th>703</th>\n",
       "      <td>Preston</td>\n",
       "      <td>1</td>\n",
       "      <td>English</td>\n",
       "      <td>Product Design</td>\n",
       "      <td>21.0</td>\n",
       "      <td>islamabad</td>\n",
       "      <td>Pakistan</td>\n",
       "      <td>APAC</td>\n",
       "      <td>Asia</td>\n",
       "      <td>0</td>\n",
       "      <td>...</td>\n",
       "      <td>2</td>\n",
       "      <td>2</td>\n",
       "      <td>2</td>\n",
       "      <td>3</td>\n",
       "      <td>linkedin</td>\n",
       "      <td>Any</td>\n",
       "      <td>Starting on 5th September</td>\n",
       "      <td>Any</td>\n",
       "      <td>Any</td>\n",
       "      <td>10-15 hours</td>\n",
       "    </tr>\n",
       "    <tr>\n",
       "      <th>698</th>\n",
       "      <td>Aileen</td>\n",
       "      <td>1</td>\n",
       "      <td>English</td>\n",
       "      <td>Product Design</td>\n",
       "      <td>20.0</td>\n",
       "      <td>Karachi</td>\n",
       "      <td>Pakistan</td>\n",
       "      <td>APAC</td>\n",
       "      <td>Asia</td>\n",
       "      <td>0</td>\n",
       "      <td>...</td>\n",
       "      <td>2</td>\n",
       "      <td>2</td>\n",
       "      <td>2</td>\n",
       "      <td>3</td>\n",
       "      <td>Linkedin</td>\n",
       "      <td>Any</td>\n",
       "      <td>Starting on 22nd August</td>\n",
       "      <td>Any</td>\n",
       "      <td>Any</td>\n",
       "      <td>10-15 hours</td>\n",
       "    </tr>\n",
       "    <tr>\n",
       "      <th>684</th>\n",
       "      <td>Jordyn</td>\n",
       "      <td>1</td>\n",
       "      <td>English</td>\n",
       "      <td>Product Design</td>\n",
       "      <td>22.0</td>\n",
       "      <td>Hyderabad</td>\n",
       "      <td>Pakistan</td>\n",
       "      <td>APAC</td>\n",
       "      <td>Asia</td>\n",
       "      <td>0</td>\n",
       "      <td>...</td>\n",
       "      <td>3</td>\n",
       "      <td>2</td>\n",
       "      <td>2</td>\n",
       "      <td>3</td>\n",
       "      <td>Internet</td>\n",
       "      <td>Starting on 22nd August</td>\n",
       "      <td>Starting on 5th September</td>\n",
       "      <td>Any</td>\n",
       "      <td>Any</td>\n",
       "      <td>10-15 hours</td>\n",
       "    </tr>\n",
       "  </tbody>\n",
       "</table>\n",
       "<p>5 rows × 27 columns</p>\n",
       "</div>"
      ],
      "text/plain": [
       "           Name  Squad_Num Prefered_Lang  Interested_Grp   Age        City  \\\n",
       "593  Alessandra          1       English  Product Design  20.0  Faisalabad   \n",
       "706     Charles          1       English  Product Design  20.0   hyderabad   \n",
       "703     Preston          1       English  Product Design  21.0   islamabad   \n",
       "698      Aileen          1       English  Product Design  20.0     Karachi   \n",
       "684      Jordyn          1       English  Product Design  22.0   Hyderabad   \n",
       "\n",
       "      Country Region Timezone  Occupation  ... Product_Design  \\\n",
       "593  Pakistan   APAC     Asia           0  ...              2   \n",
       "706  Pakistan   APAC     Asia           0  ...              3   \n",
       "703  Pakistan   APAC     Asia           0  ...              2   \n",
       "698  Pakistan   APAC     Asia           0  ...              2   \n",
       "684  Pakistan   APAC     Asia           0  ...              3   \n",
       "\n",
       "     Product_Development  Growth_Marketing  Leading_Groups  Internship_News  \\\n",
       "593                    2                 2               5            email   \n",
       "706                    2                 2               3         LinkedIn   \n",
       "703                    2                 2               3         linkedin   \n",
       "698                    2                 2               3         Linkedin   \n",
       "684                    2                 2               3         Internet   \n",
       "\n",
       "     Cohort_Product_Marketing      Cohort_Product_Design  \\\n",
       "593   Starting on 15th August    Starting on 22nd August   \n",
       "706                       Any  Starting on 5th September   \n",
       "703                       Any  Starting on 5th September   \n",
       "698                       Any    Starting on 22nd August   \n",
       "684   Starting on 22nd August  Starting on 5th September   \n",
       "\n",
       "     Cohort_Product_Development  Cohort_Product_Growth  Hours_Per_Week  \n",
       "593                         Any                    Any     10-15 hours  \n",
       "706                         Any                    Any     10-15 hours  \n",
       "703                         Any                    Any     10-15 hours  \n",
       "698                         Any                    Any     10-15 hours  \n",
       "684                         Any                    Any     10-15 hours  \n",
       "\n",
       "[5 rows x 27 columns]"
      ]
     },
     "execution_count": 78,
     "metadata": {},
     "output_type": "execute_result"
    }
   ],
   "source": [
    "df_2.head()"
   ]
  },
  {
   "cell_type": "markdown",
   "id": "d69204e8",
   "metadata": {},
   "source": [
    "<center><h3>Analysis and Insight of Dataset</h3></center>"
   ]
  },
  {
   "cell_type": "code",
   "execution_count": 68,
   "id": "c6eddc60",
   "metadata": {},
   "outputs": [
    {
     "data": {
      "text/html": [
       " <style>\n",
       ".output_png {\n",
       "    display: table-cell;\n",
       "    text-align: center;\n",
       "    vertical-align: middle;\n",
       "}\n",
       "</style> "
      ],
      "text/plain": [
       "<IPython.core.display.HTML object>"
      ]
     },
     "execution_count": 68,
     "metadata": {},
     "output_type": "execute_result"
    }
   ],
   "source": [
    "from IPython.core.display import HTML as Center\n",
    "\n",
    "Center(\"\"\" <style>\n",
    ".output_png {\n",
    "    display: table-cell;\n",
    "    text-align: center;\n",
    "    vertical-align: middle;\n",
    "}\n",
    "</style> \"\"\")\n",
    "\n",
    "# Just to center all the plots"
   ]
  },
  {
   "cell_type": "code",
   "execution_count": 51,
   "id": "2d1d22bd",
   "metadata": {},
   "outputs": [
    {
     "data": {
      "image/png": "[encoded data removed]",
      "text/plain": [
       "<Figure size 720x360 with 1 Axes>"
      ]
     },
     "metadata": {
      "needs_background": "light"
     },
     "output_type": "display_data"
    }
   ],
   "source": [
    "f = plt.figure()\n",
    "f.set_figwidth(10)\n",
    "f.set_figheight(5)\n",
    "sns.countplot(x='Region',data=df_2)\n",
    "plt.title(\"This Graph shows diversity of participants from various regions\")\n",
    "plt.show()"
   ]
  },
  {
   "cell_type": "code",
   "execution_count": 67,
   "id": "dfe4c458",
   "metadata": {},
   "outputs": [
    {
     "data": {
      "image/png": "[encoded data removed]",
      "text/plain": [
       "<Figure size 432x288 with 1 Axes>"
      ]
     },
     "metadata": {},
     "output_type": "display_data"
    }
   ],
   "source": [
    "df['Internship_News'] = df['Internship_News'].str.lower()\n",
    "whatsapp = 0\n",
    "linkedin = 0\n",
    "google = 0\n",
    "friends = 0\n",
    "for i in df['Internship_News']:\n",
    "    if \"whatsapp\" in i:\n",
    "          whatsapp += 1\n",
    "    elif \"linkedin\" in i:\n",
    "        linkedin += 1\n",
    "    elif \"friends\" in i:\n",
    "        friends += 1\n",
    "    else:\n",
    "        google += 1\n",
    "heard_from= {'whatsapp':whatsapp , 'linkedin':linkedin , 'google':google , 'friends':friends}\n",
    "labels = list(heard_from.keys())\n",
    "plt.title(\"From where did candidates heard about internship\")\n",
    "plt.pie([whatsapp , linkedin , google , friends] , labels=labels ,shadow=True,explode=(0.2,0.0,0.1,1))\n",
    "plt.show()"
   ]
  },
  {
   "cell_type": "code",
   "execution_count": 70,
   "id": "f222cdc4",
   "metadata": {},
   "outputs": [
    {
     "data": {
      "image/png": "[encoded data removed]",
      "text/plain": [
       "<Figure size 432x288 with 1 Axes>"
      ]
     },
     "metadata": {
      "needs_background": "light"
     },
     "output_type": "display_data"
    }
   ],
   "source": [
    "plt.title(\"Diversity of Employees willing to giving no of hours to internship\")\n",
    "plt.hist(df['Hours_Per_Week'])\n",
    "plt.show()"
   ]
  },
  {
   "cell_type": "code",
   "execution_count": 71,
   "id": "cce64f6d",
   "metadata": {},
   "outputs": [
    {
     "data": {
      "image/png": "[encoded data removed]",
      "text/plain": [
       "<Figure size 432x288 with 1 Axes>"
      ]
     },
     "metadata": {
      "needs_background": "light"
     },
     "output_type": "display_data"
    }
   ],
   "source": [
    "df['Cohort_Product_Growth'] = df['Cohort_Product_Growth'].str.lower()\n",
    "df['Cohort_Product_Growth'] = df['Cohort_Product_Growth'].str.replace(\"starting on\",\"\")\n",
    "df['Cohort_Product_Growth'] = df['Cohort_Product_Growth'].str.replace(\"i would prefer a later cohort\",\"later\")\n",
    "df['Cohort_Product_Growth'].fillna((\"5th September\") , inplace = True)\n",
    "plt.hist(df['Cohort_Product_Growth'])\n",
    "plt.title(\"Cohort Product Growth\")\n",
    "plt.show()"
   ]
  },
  {
   "cell_type": "code",
   "execution_count": 75,
   "id": "a543f81e",
   "metadata": {},
   "outputs": [
    {
     "data": {
      "image/png": "[encoded data removed]",
      "text/plain": [
       "<Figure size 432x288 with 1 Axes>"
      ]
     },
     "metadata": {
      "needs_background": "light"
     },
     "output_type": "display_data"
    }
   ],
   "source": [
    "df['Cohort_Product_Development'] = df['Cohort_Product_Development'].str.lower()\n",
    "df['Cohort_Product_Development'] = df['Cohort_Product_Development'].str.replace(\"starting on \",\"\")\n",
    "df['Cohort_Product_Development'] = df['Cohort_Product_Development'].str.replace(\"i would prefer a later cohort\",\"later\")\n",
    "df['Cohort_Product_Development'].fillna((\"5th September\") , inplace = True)\n",
    "plt.hist(df['Cohort_Product_Development'])\n",
    "plt.title(\"Cohort Product Development Analysis\")\n",
    "plt.show()"
   ]
  },
  {
   "cell_type": "code",
   "execution_count": 76,
   "id": "58871786",
   "metadata": {},
   "outputs": [
    {
     "data": {
      "image/png": "[encoded data removed]",
      "text/plain": [
       "<Figure size 432x288 with 1 Axes>"
      ]
     },
     "metadata": {
      "needs_background": "light"
     },
     "output_type": "display_data"
    }
   ],
   "source": [
    "df.Cohort_Product_Design = df.Cohort_Product_Design.str.replace(\"(,).*\",\"\")\n",
    "df['Cohort_Product_Design'] = df['Cohort_Product_Design'].str.lower()\n",
    "df['Cohort_Product_Design'] = df['Cohort_Product_Design'].str.replace('starting on ',\"\")\n",
    "df['Cohort_Product_Design'] = df['Cohort_Product_Design'].str.replace('i would prefer a later cohort','later')\n",
    "df['Cohort_Product_Design'].fillna(('5th september') , inplace = True)\n",
    "plt.hist(df['Cohort_Product_Design'])\n",
    "plt.title('Cohort Product Design Analysis')\n",
    "plt.show()"
   ]
  },
  {
   "cell_type": "code",
   "execution_count": 77,
   "id": "7c070e31",
   "metadata": {},
   "outputs": [
    {
     "data": {
      "image/png": "[encoded data removed]",
      "text/plain": [
       "<Figure size 432x288 with 1 Axes>"
      ]
     },
     "metadata": {
      "needs_background": "light"
     },
     "output_type": "display_data"
    }
   ],
   "source": [
    "df.Cohort_Product_Marketing = df.Cohort_Product_Marketing.str.replace(\"(,).*\",\"\")\n",
    "df['Cohort_Product_Marketing'] = df['Cohort_Product_Marketing'].str.lower()\n",
    "df['Cohort_Product_Marketing'] = df['Cohort_Product_Marketing'].str.replace('starting on ',\"\")\n",
    "df['Cohort_Product_Marketing'] = df['Cohort_Product_Marketing'].str.replace('i would prefer a later cohort','later')\n",
    "df['Cohort_Product_Marketing'].fillna(('15th august') , inplace = True)\n",
    "plt.hist(df['Cohort_Product_Marketing'])\n",
    "plt.title('Cohort Product Marketing Analysis')\n",
    "plt.show()"
   ]
  },
  {
   "cell_type": "code",
   "execution_count": null,
   "id": "30dd3e3d",
   "metadata": {},
   "outputs": [],
   "source": []
  }
 ],
 "metadata": {
  "kernelspec": {
   "display_name": "Python 3 (ipykernel)",
   "language": "python",
   "name": "python3"
  },
  "language_info": {
   "codemirror_mode": {
    "name": "ipython",
    "version": 3
   },
   "file_extension": ".py",
   "mimetype": "text/x-python",
   "name": "python",
   "nbconvert_exporter": "python",
   "pygments_lexer": "ipython3",
   "version": "3.9.7"
  }
 },
 "nbformat": 4,
 "nbformat_minor": 5
}
